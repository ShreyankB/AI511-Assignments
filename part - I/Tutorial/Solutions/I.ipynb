{
  "nbformat": 4,
  "nbformat_minor": 0,
  "metadata": {
    "colab": {
      "name": "MT2021130 - Week-1 Assignment .ipynb",
      "provenance": []
    },
    "kernelspec": {
      "name": "python3",
      "display_name": "Python 3"
    },
    "language_info": {
      "name": "python"
    }
  },
  "cells": [
    {
      "cell_type": "code",
      "metadata": {
        "id": "PHETxyRW8fUt"
      },
      "source": [
        "import numpy as np\n",
        "import pandas as pd\n",
        "import matplotlib.pyplot as plt"
      ],
      "execution_count": null,
      "outputs": []
    },
    {
      "cell_type": "markdown",
      "metadata": {
        "id": "VfUvAkOPvHcl"
      },
      "source": [
        "**Gradient descent with 3 variables**\n",
        "\n",
        "f(x, y, z) = x^2 + yz + 1\n",
        "\n",
        "α = 0.1\n",
        "\n",
        "Initialy, (x, y, z) = (2, 1, 1)"
      ]
    },
    {
      "cell_type": "code",
      "metadata": {
        "id": "eDgHxXUIvD06"
      },
      "source": [
        "def three_dimensional_loss(x, y, z):\n",
        "    return x**2 + y*z + 1"
      ],
      "execution_count": null,
      "outputs": []
    },
    {
      "cell_type": "code",
      "metadata": {
        "id": "qM1cDQsjwG-y"
      },
      "source": [
        "def three_dimensional_loss_gradient(x, y, z):\n",
        "    '''\n",
        "    partially derivating f(x,y,z) w.r.t  x,y and z\n",
        "    '''\n",
        "    return (2*x, z, y)"
      ],
      "execution_count": null,
      "outputs": []
    },
    {
      "cell_type": "code",
      "metadata": {
        "id": "vYDKJmNEwXlP"
      },
      "source": [
        "x_init, y_init, z_init = 2, 1, 1"
      ],
      "execution_count": null,
      "outputs": []
    },
    {
      "cell_type": "code",
      "metadata": {
        "id": "J988Q7DJwd9u"
      },
      "source": [
        "learning_rate = 0.1\n",
        "num_iters = 2000"
      ],
      "execution_count": null,
      "outputs": []
    },
    {
      "cell_type": "code",
      "metadata": {
        "id": "JjgqxXvBwphP"
      },
      "source": [
        "x, y, z = x_init, y_init, z_init\n",
        "costs = []\n",
        "for _ in range(num_iters):\n",
        "    cost = three_dimensional_loss(x, y, z)\n",
        "    costs.append(cost)\n",
        "    dx, dy, dz = three_dimensional_loss_gradient(x, y, z)\n",
        "    x = x - learning_rate*dx\n",
        "    y = y - learning_rate*dy\n",
        "    z = z - learning_rate*dz"
      ],
      "execution_count": null,
      "outputs": []
    },
    {
      "cell_type": "code",
      "metadata": {
        "colab": {
          "base_uri": "https://localhost:8080/",
          "height": 297
        },
        "id": "Ilvb5zt5xF9r",
        "outputId": "28df9430-b38e-4618-e9e9-8055eeb4653e"
      },
      "source": [
        "plt.plot(costs)\n",
        "plt.xlabel(\"Iteration\")\n",
        "plt.ylabel(\"Cost\")"
      ],
      "execution_count": null,
      "outputs": [
        {
          "output_type": "execute_result",
          "data": {
            "text/plain": [
              "Text(0, 0.5, 'Cost')"
            ]
          },
          "metadata": {},
          "execution_count": 7
        },
        {
          "output_type": "display_data",
          "data": {
            "image/png": "[encoded data removed]",
            "text/plain": [
              "<Figure size 432x288 with 1 Axes>"
            ]
          },
          "metadata": {
            "needs_background": "light"
          }
        }
      ]
    },
    {
      "cell_type": "code",
      "metadata": {
        "colab": {
          "base_uri": "https://localhost:8080/"
        },
        "id": "JuuH5QKaxr2j",
        "outputId": "7218a612-dbc9-4068-e55d-63e32676aa4b"
      },
      "source": [
        "(x, y, z)"
      ],
      "execution_count": null,
      "outputs": [
        {
          "output_type": "execute_result",
          "data": {
            "text/plain": [
              "(1.024, 0.7290000000000001, 0.7290000000000001)"
            ]
          },
          "metadata": {},
          "execution_count": 8
        }
      ]
    },
    {
      "cell_type": "code",
      "metadata": {
        "id": "dbpxXqf4xyo6"
      },
      "source": [
        ""
      ],
      "execution_count": null,
      "outputs": []
    }
  ]
}